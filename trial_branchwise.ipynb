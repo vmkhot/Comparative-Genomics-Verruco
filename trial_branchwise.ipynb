{
 "cells": [
  {
   "cell_type": "code",
   "execution_count": 1,
   "metadata": {},
   "outputs": [],
   "source": [
    "import os, sys, re\n",
    "from collections import defaultdict"
   ]
  },
  {
   "cell_type": "code",
   "execution_count": 3,
   "metadata": {},
   "outputs": [
    {
     "data": {
      "text/plain": [
       "'Results/ml_undated_example/100_MSA.fa.ufboot.ale.uml_rec'"
      ]
     },
     "execution_count": 3,
     "metadata": {},
     "output_type": "execute_result"
    }
   ],
   "source": [
    "branchwise = defaultdict(list)\n",
    "input=\"Results/ml_undated_example/100_MSA.fa.ufboot.ale.uml_rec\"\n",
    "input"
   ]
  },
  {
   "cell_type": "code",
   "execution_count": 8,
   "metadata": {},
   "outputs": [
    {
     "name": "stdout",
     "output_type": "stream",
     "text": [
      "['S_terminal_branch', 'GCA_002304445_1_ASM230444v1_genomic', '0', '0', '0.19', '0', '0']\n",
      "['S_terminal_branch', 'GCA_003558065_1_ASM355806v1_genomic', '0.82', '0.15', '0.03', '0.04', '2']\n",
      "['S_terminal_branch', 'GCA_007130045_1_ASM713004v1_genomic', '0', '0', '0', '0', '0']\n",
      "['S_terminal_branch', 'GCA_007132315_1_ASM713231v1_genomic', '0', '0', '0', '0', '0']\n",
      "['S_terminal_branch', 'GCA_013215165_1_ASM1321516v1_genomic', '0', '0', '0', '0', '0']\n",
      "['S_terminal_branch', 'GCA_014529675_2_ASM1452967v2_genomic', '0', '0', '0.04', '0', '0']\n",
      "['S_terminal_branch', 'GCA_014879845_1_ASM1487984v1_genomic', '0', '0', '0', '0', '0']\n",
      "['S_terminal_branch', 'GCA_016217545_1_ASM1621754v1_genomic', '0', '0', '0', '0', '0']\n",
      "['S_terminal_branch', 'GCA_016871775_1_JGI_2017-08-21_genomic', '0', '0', '0', '0', '0']\n",
      "['S_terminal_branch', 'GCA_018239675_1_ASM1823967v1_genomic', '0', '0.01', '0.01', '0', '0']\n",
      "['S_terminal_branch', 'GCA_018667915_1_ASM1866791v1_genomic', '0', '0', '0', '0', '0']\n",
      "['S_terminal_branch', 'GCA_018700525_1_ASM1870052v1_genomic', '0', '0', '0', '0', '0']\n",
      "['S_terminal_branch', 'GCA_902728235_1_LCC4_PacBio_genomic', '0', '0', '0', '0', '0']\n",
      "['S_terminal_branch', 'GCA_903862595_1_freshwater_MAG_Loclat_bin_15473_genomic', '0', '0', '0.01', '0', '0']\n",
      "['S_terminal_branch', 'GCA_903890485_1_freshwater_MAG_VK1_bin_0186_genomic', '0.02', '0.75', '0.03', '0.07', '1']\n",
      "['S_terminal_branch', 'GCF_000019965_1_ASM1996v1_genomic', '0', '0', '0', '0', '0']\n",
      "['S_terminal_branch', 'GCF_000025905_1_ASM2590v1_genomic', '0', '0', '0', '0', '0']\n",
      "['S_terminal_branch', 'GCF_000171235_2_ASM17123v2_genomic', '0', '0', '0', '0', '0']\n",
      "['S_terminal_branch', 'GCF_001580015_1_ASM158001v1_genomic', '0', '0', '0', '0', '0']\n",
      "['S_terminal_branch', 'GCF_001580045_1_ASM158004v1_genomic', '0', '0', '0', '0', '0']\n",
      "['S_terminal_branch', 'GCF_001746835_1_ASM174683v1_genomic', '0', '0', '0', '0', '0']\n",
      "['S_terminal_branch', 'GCF_002310495_1_ASM231049v1_genomic', '0', '0', '0', '0', '0']\n",
      "['S_terminal_branch', 'GCF_003096195_1_ASM309619v1_genomic', '0', '0', '0', '0', '0']\n",
      "['S_terminal_branch', 'GCF_003185655_1_ASM318565v1_genomic', '0', '0.01', '0.01', '0', '0']\n",
      "['S_terminal_branch', 'GCF_004118375_1_ASM411837v1_genomic', '0', '0', '0', '0', '0']\n",
      "['S_terminal_branch', 'GCF_007559335_1_ASM755933v1_genomic', '0', '0', '0', '0', '0']\n",
      "['S_terminal_branch', 'GCF_014230085_1_ASM1423008v1_genomic', '0', '0', '0', '0', '0']\n",
      "['S_terminal_branch', 'GCF_014230145_1_ASM1423014v1_genomic', '0', '0', '0', '0', '0']\n",
      "['S_terminal_branch', 'GCF_014651635_1_ASM1465163v1_genomic', '0', '0', '0', '0', '0']\n",
      "['S_terminal_branch', 'GCF_014803405_1_ASM1480340v1_genomic', '0', '0', '0', '0', '0']\n",
      "['S_terminal_branch', 'GCF_016595505_1_ASM1659550v1_genomic', '0', '0', '0.01', '0.01', '0']\n",
      "['S_terminal_branch', 'GCF_900104925_1_IMG-taxon_2690315651_genomic', '0', '0', '0', '0', '0']\n",
      "['S_terminal_branch', 'MM_AF_Super_Day4_Bin_8', '0', '0', '0', '0', '0']\n",
      "['S_terminal_branch', 'MM_AF_Super_Day6_Bin_11', '0', '0', '0', '0', '0']\n",
      "['S_terminal_branch', 'MM_AF_coassembly_bin_52', '0', '0', '0', '0', '0']\n",
      "['S_terminal_branch', 'MM_GCA_007692545_1_ASM769254v1_sodalakeV2_genomic', '0', '0', '0', '0', '0']\n",
      "['S_terminal_branch', 'MM_GCA_007695295_1_ASM769529v1_sodalakeV1_genomic', '0', '0.01', '0.01', '0', '0']\n",
      "['S_terminal_branch', 'MM_PBR_bin07A_genomic', '0', '0', '0', '0', '0']\n",
      "['S_terminal_branch', 'MM_PBR_bin56_genomic', '0', '0', '0.01', '0', '0']\n",
      "['S_terminal_branch', 'MM_VK_Bin_42', '0', '0', '0.01', '0', '0']\n",
      "['S_terminal_branch', 'MM_VK_Bin_48', '0', '0', '0.02', '0.01', '0']\n",
      "['S_terminal_branch', 'MM_VK_Bin_64', '0', '0', '0', '0', '0']\n",
      "['S_terminal_branch', 'MM_VK_Bin_81', '0', '0', '0', '0', '0']\n",
      "['S_terminal_branch', 'MM_VK_Bin_83', '0', '0', '0', '0', '0']\n",
      "['S_terminal_branch', 'opitutales_genome3', '0.02', '0.16', '0.06', '0.01', '1']\n",
      "['S_internal_branch', '45', '0.01', '0.07', '0.01', '0.07', '0.19']\n",
      "['S_internal_branch', '46', '0', '0', '1.02', '0', '0']\n",
      "['S_internal_branch', '47', '0', '0', '0', '0', '0']\n",
      "['S_internal_branch', '48', '0', '0.01', '0.01', '0', '0']\n",
      "['S_internal_branch', '49', '0', '0', '0.05', '0', '0']\n",
      "['S_internal_branch', '50', '0', '0', '0.01', '0', '0']\n",
      "['S_internal_branch', '51', '0', '0.01', '0.01', '0', '0']\n",
      "['S_internal_branch', '52', '0', '0', '0.02', '0', '0']\n",
      "['S_internal_branch', '53', '0', '0', '0', '0', '0']\n",
      "['S_internal_branch', '54', '0', '0', '0.01', '0', '0']\n",
      "['S_internal_branch', '55', '0', '0', '0', '0', '0']\n",
      "['S_internal_branch', '56', '0', '0', '0', '0', '0']\n",
      "['S_internal_branch', '57', '0', '0', '0', '0', '0']\n",
      "['S_internal_branch', '58', '0', '0', '0', '0', '0']\n",
      "['S_internal_branch', '59', '0', '0', '0.01', '0.01', '0']\n",
      "['S_internal_branch', '60', '0', '0', '0', '0', '0']\n",
      "['S_internal_branch', '61', '0', '0', '0', '0', '0']\n",
      "['S_internal_branch', '62', '0', '0', '0.02', '0', '0']\n",
      "['S_internal_branch', '63', '0', '0.01', '0.02', '0', '0.01']\n",
      "['S_internal_branch', '64', '0', '0.04', '0.01', '0', '0.05']\n",
      "['S_internal_branch', '65', '0.12', '0.01', '0.03', '0.03', '1.02']\n",
      "['S_internal_branch', '66', '0', '0', '0', '0', '0.01']\n",
      "['S_internal_branch', '67', '0.01', '0.01', '0.01', '0', '0.02']\n",
      "['S_internal_branch', '68', '0', '0', '0', '0', '0']\n",
      "['S_internal_branch', '69', '0', '0', '0', '0', '0']\n",
      "['S_internal_branch', '70', '0', '0', '0', '0', '0']\n",
      "['S_internal_branch', '71', '0', '0', '0', '0', '0']\n",
      "['S_internal_branch', '72', '0', '0', '0', '0.01', '0.02']\n",
      "['S_internal_branch', '73', '0', '0.01', '0.01', '0', '0.01']\n",
      "['S_internal_branch', '74', '0', '0.01', '0.01', '0.01', '0.01']\n",
      "['S_internal_branch', '75', '0', '0', '0', '0', '0']\n",
      "['S_internal_branch', '76', '0', '0', '0', '0', '0']\n",
      "['S_internal_branch', '77', '0', '0', '0.88', '0', '0.01']\n",
      "['S_internal_branch', '78', '0', '0', '0', '0', '0']\n",
      "['S_internal_branch', '79', '0', '0', '0', '0', '0']\n",
      "['S_internal_branch', '80', '0.04', '0.01', '0.08', '0.05', '0.89']\n",
      "['S_internal_branch', '81', '0', '0', '0', '0', '0']\n",
      "['S_internal_branch', '82', '0.06', '0.15', '0.02', '0.51', '0.87']\n",
      "['S_internal_branch', '83', '0', '0', '0.17', '0', '0']\n",
      "['S_internal_branch', '84', '0', '0', '0', '0.13', '0.17']\n",
      "['S_internal_branch', '85', '0', '0', '0', '0.04', '0.04']\n",
      "['S_internal_branch', '86', '0', '0', '0', '0', '0']\n",
      "['S_internal_branch', '87', '0', '0', '0', '0', '0']\n",
      "['S_internal_branch', '88', '0', '0', '0', '0', '0']\n"
     ]
    }
   ],
   "source": [
    "inhandle = open(input)\n",
    "for line in inhandle:\n",
    "    line_elements = re.split(\"\\t\", line.rstrip())\n",
    "    if (line_elements[0] == \"S_terminal_branch\") or (line_elements[0] == \"S_internal_branch\"):\n",
    "        print(line_elements)"
   ]
  }
 ],
 "metadata": {
  "kernelspec": {
   "display_name": "Python 3",
   "language": "python",
   "name": "python3"
  },
  "language_info": {
   "codemirror_mode": {
    "name": "ipython",
    "version": 3
   },
   "file_extension": ".py",
   "mimetype": "text/x-python",
   "name": "python",
   "nbconvert_exporter": "python",
   "pygments_lexer": "ipython3",
   "version": "3.11.1"
  },
  "orig_nbformat": 4
 },
 "nbformat": 4,
 "nbformat_minor": 2
}
