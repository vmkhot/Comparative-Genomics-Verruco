{
 "cells": [
  {
   "cell_type": "code",
   "execution_count": null,
   "metadata": {},
   "outputs": [],
   "source": [
    "import pandas as pd\n",
    "import argparse"
   ]
  },
  {
   "cell_type": "code",
   "execution_count": null,
   "metadata": {},
   "outputs": [],
   "source": [
    "def parse_args():\n",
    "    parser = argparse.ArgumentParser(prog='get_genefam_events.py')\n",
    "    parser.add_argument('-f','--infile', nargs='+',help=\"Not optional. path to Copies_at_each_node.csv file\")\n",
    "    parser.add_argument('-e', '--event', nargs='+', help=\"Not optional. Choose 1 from Duplications,Transfers,Losses,Originations,Copies\")\n",
    "    parser.add_argument('-n', '--node', help=\"(int) for node, default=ALL\")\n",
    "    parser.add_argument('-g', '--genefam',help=\"(int) for genefam, default=ALL\")\n",
    "    parser.add_argument('-c', '--cutoff', help=\"value for boostrap cutoff, default=0.5, this means the gene family has to appear at that node >50% of the time\" )\n",
    "\n",
    "    parser.print_usage()\n",
    "    return parser.parse_args()"
   ]
  },
  {
   "cell_type": "code",
   "execution_count": null,
   "metadata": {},
   "outputs": [],
   "source": [
    "def filter_master(master,event,node=None,genefam=None,cutoff=0.5):\n",
    "    # print specified event for specified gene family at all nodes\n",
    "    df_master=pd.read_csv(master, header=0, usecols=['Node','Gene_family','Duplications','Transfers','Losses','Originations','Copies'])\n",
    "\n",
    "    if node is None and genefam is not None:\n",
    "        df_filter=df_master.loc[(df_master['Gene_family']==f'{genefam}_MSA.fa.ufboot.ale.uml_rec') & (df_master[event] >= float(cutoff)) , ['Node','Gene_family',str(event)]]\n",
    "        #print(df_master)\n",
    "\n",
    "    # print all gene families at specified node for specified event\n",
    "    elif node is not None and genefam is None:\n",
    "        df_filter=df_master.loc[(df_master['Node']==int(node)) & (df_master[event] >= float(cutoff)) , ['Node','Gene_family',str(event)]]\n",
    "        #print(df_master)\n",
    "\n",
    "    #print specified events for all nodes for all gene families\n",
    "    elif node is None and genefam is None:\n",
    "        df_filter=df_master.loc[(df_master[event] >= float(cutoff)) , ['Node','Gene_family',str(event)]]\n",
    "        #print(df_master)\n",
    "\n",
    "    return df_filter"
   ]
  },
  {
   "cell_type": "code",
   "execution_count": null,
   "metadata": {},
   "outputs": [],
   "source": [
    "def main():\n",
    "    print('Filtering started...')\n",
    "    args=parse_args()\n",
    "    event_in=args.event\n",
    "    node_in=int(args.node)\n",
    "    genefam_in=int(args.genefam)\n",
    "    cutoff_in=float(args.cutoff)\n",
    "    print(event_in)\n",
    "    master=args.infile\n",
    "\n",
    "    print(\"in file:\", master, '\\n',\n",
    "        \"out file: Copies_at_each_node_filtered.csv\"   \n",
    "        \"event:\", event_in,'\\n',\n",
    "        \"node:\", node_in, '\\n',\n",
    "        \"gene family:\", genefam_in, '\\n',\n",
    "        \"cutoff:\", cutoff_in,)\n",
    "    \n",
    "    df_filter=filter_master(event=event_in,node=node_in,genefam=genefam_in,cutoff=cutoff_in)\n",
    "    df_filter.to_csv('./Copies_at_each_node_filtered.csv', index=False , header=True)\n",
    "    return\n"
   ]
  },
  {
   "cell_type": "code",
   "execution_count": null,
   "metadata": {},
   "outputs": [],
   "source": [
    "main()"
   ]
  },
  {
   "cell_type": "code",
   "execution_count": null,
   "metadata": {},
   "outputs": [],
   "source": []
  }
 ],
 "metadata": {
  "kernelspec": {
   "display_name": "Python 3",
   "language": "python",
   "name": "python3"
  },
  "language_info": {
   "codemirror_mode": {
    "name": "ipython",
    "version": 3
   },
   "file_extension": ".py",
   "mimetype": "text/x-python",
   "name": "python",
   "nbconvert_exporter": "python",
   "pygments_lexer": "ipython3",
   "version": "3.11.1"
  },
  "orig_nbformat": 4
 },
 "nbformat": 4,
 "nbformat_minor": 2
}
