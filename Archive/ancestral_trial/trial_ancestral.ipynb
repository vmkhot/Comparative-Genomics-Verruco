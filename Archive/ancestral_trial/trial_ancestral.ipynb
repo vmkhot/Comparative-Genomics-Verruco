{
 "cells": [
  {
   "cell_type": "code",
   "execution_count": 1,
   "metadata": {},
   "outputs": [],
   "source": [
    "import os\n",
    "import sys\n",
    "import glob\n",
    "import pandas as pd"
   ]
  },
  {
   "cell_type": "code",
   "execution_count": 2,
   "metadata": {},
   "outputs": [],
   "source": [
    "def get_copies_at_node(rec_file, node):\n",
    "\n",
    "    \"\"\" Function to get the copies of the gene family at a specific node \"\"\"\n",
    "\n",
    "    node = str(node)\n",
    "    dupes_at_node = 0\n",
    "    trans_at_node = 0\n",
    "    loss_at_node = 0\n",
    "    origin_at_node = 0\n",
    "    copies_at_node = 0\n",
    "    rec_file_text = open(rec_file, \"r\")\n",
    "    for line in rec_file_text:\n",
    "        line = line.strip()\n",
    "        if line.startswith(\"S_i\"):\n",
    "            split_table = line.split(\"\\t\")\n",
    "            internal_node = split_table[1]\n",
    "            if internal_node == node:\n",
    "                dupes_at_node += float(split_table[2])\n",
    "                trans_at_node += float(split_table[3])\n",
    "                loss_at_node += float(split_table[4])\n",
    "                origin_at_node += float(split_table[5])\n",
    "                copies_at_node += float(split_table[6])\n",
    "\n",
    "    return [dupes_at_node, trans_at_node, loss_at_node, origin_at_node, copies_at_node]"
   ]
  },
  {
   "cell_type": "code",
   "execution_count": 3,
   "metadata": {},
   "outputs": [],
   "source": [
    "def run_node_reconstruction(n1,n2):\n",
    "\n",
    "    \"\"\" Function to find all the gene families at each node in the tree \"\"\"\n",
    "\n",
    "    nodes = list(range(n1,n2))\n",
    "    Gene_families = []\n",
    "    Nodes = []\n",
    "    Duplications =[]\n",
    "    Transfers =[]\n",
    "    Losses= []\n",
    "    Originations =[]\n",
    "    Copies =[]\n",
    "\n",
    "    for node in nodes:\n",
    "        for rec_file in glob.glob(\"*.uml_rec\"):\n",
    "            genefamily_dupe = get_copies_at_node(rec_file,node)[0]\n",
    "            genefamily_trans = get_copies_at_node(rec_file,node)[1]\n",
    "            genefamily_loss = get_copies_at_node(rec_file,node)[2]\n",
    "            genefamily_origin = get_copies_at_node(rec_file,node)[3]\n",
    "            genefamily_copy = get_copies_at_node(rec_file,node)[4]\n",
    "            \n",
    "            Gene_families.append(rec_file)\n",
    "            Nodes.append(node)\n",
    "            Duplications.append(genefamily_dupe)\n",
    "            Transfers.append(genefamily_trans)\n",
    "            Losses.append(genefamily_loss)\n",
    "            Originations.append(genefamily_origin)\n",
    "            Copies.append(genefamily_copy)\n",
    "\n",
    "    data = {\"Node\":Nodes, \"Gene_family\":Gene_families, \"Duplications\":Duplications, \"Transfers\":Transfers, \"Losses\":Losses, \"Originations\":Originations, \"Copies\":Copies}\n",
    "    df = pd.DataFrame.from_dict(data)\n",
    "    df.to_csv(\"Copies_at_each_node.csv\")    # this is a kind of master file with \"which genes at which nodes\" information to query\n",
    "\n",
    "    return df"
   ]
  },
  {
   "cell_type": "code",
   "execution_count": 4,
   "metadata": {},
   "outputs": [],
   "source": [
    "def make_node_data(df, cutoff, n1, n2):\n",
    "\n",
    "    \"\"\" Function to find all genes at specific nodes, based on cutoff \"\"\"\n",
    "\n",
    "    total_at_node = {}\n",
    "    nodes = list(range(n1,n2))\n",
    "    for node in nodes:\n",
    "\n",
    "        df_node = df[df[\"Node\"]==node]\n",
    "        total_dupes_at_node = df_node.Duplications.sum()\n",
    "        total_trans_at_node = df_node.Transfers.sum()\n",
    "        total_loss_at_node = df_node.Losses.sum()\n",
    "        total_origin_at_node = df_node.Originations.sum()\n",
    "        total_copies_at_node = df_node.Copies.sum()\n",
    "        total_at_node[node] = [total_dupes_at_node , total_trans_at_node , total_loss_at_node , total_origin_at_node , total_copies_at_node]\n",
    "        #print(total_at_node)\n",
    "        df_node_cut = df_node.loc[(df_node[\"Duplications\"] >= float(cutoff)) | (df_node[\"Transfers\"] >= float(cutoff)) | (df_node[\"Losses\"] >= float(cutoff)) | (df_node[\"Originations\"] >= float(cutoff)) | (df_node[\"Copies\"] >= float(cutoff))]\n",
    "        #print(df_node_cut)\n",
    "        \n",
    "        if len(df_node_cut) >= 1:\n",
    "            file_name = (\"Node_\" + str(node) + \"_genes_present.csv\")\n",
    "            df_node_cut.to_csv(file_name)\n",
    "\n",
    "    df_total = pd.DataFrame.from_dict(total_at_node, orient=\"index\")\n",
    "    df_total = df_total.reset_index()\n",
    "    df_total.rename(columns={df_total.columns[0]:\"Node\",\n",
    "                             df_total.columns[1]:\"Total_Duplications\",\n",
    "                             df_total.columns[2]:\"Total_Transfers\",\n",
    "                             df_total.columns[3]:\"Total_Losses\",\n",
    "                             df_total.columns[4]:\"Total_Originations\",\n",
    "                             df_total.columns[5]:\"Total_copies\"},\n",
    "                             inplace = True)\n",
    "\n",
    "    file_name = \"Sum_of_DTLSC_at_each_node.csv\"\n",
    "    df_total.to_csv(file_name)\n",
    "\n",
    "    return(df_total)"
   ]
  },
  {
   "cell_type": "code",
   "execution_count": 5,
   "metadata": {},
   "outputs": [],
   "source": [
    "def clean_up():\n",
    "\n",
    "    \"\"\" Function to clean up directory \"\"\"\n",
    "\n",
    "    os.mkdir(\"Gene_families_at_each_node\")\n",
    "    os.system(\"mv *present.csv* Gene_families_at_each_node\")\n",
    "    os.mkdir(\"Total_copies_at_node\")\n",
    "    os.system(\"mv *.csv Total_copies_at_node\")\n",
    "\n",
    "    print(\"Gene content at each node in dir. 'Gene_families_at_each_node'\")\n",
    "    print(\"Total copy at each node in dir. 'Total_copies_at_node'\")"
   ]
  },
  {
   "cell_type": "code",
   "execution_count": 6,
   "metadata": {},
   "outputs": [],
   "source": [
    "def main():\n",
    "    df = run_node_reconstruction(n1,n2)\n",
    "    df_total = make_node_data(df, cutoff, n1, n2)\n",
    "    clean_up()"
   ]
  },
  {
   "cell_type": "code",
   "execution_count": 7,
   "metadata": {},
   "outputs": [
    {
     "ename": "ValueError",
     "evalue": "invalid literal for int() with base 10: '--stdin=9008'",
     "output_type": "error",
     "traceback": [
      "\u001b[1;31m---------------------------------------------------------------------------\u001b[0m",
      "\u001b[1;31mValueError\u001b[0m                                Traceback (most recent call last)",
      "Cell \u001b[1;32mIn[7], line 3\u001b[0m\n\u001b[0;32m      1\u001b[0m \u001b[39mif\u001b[39;00m \u001b[39m__name__\u001b[39m \u001b[39m==\u001b[39m \u001b[39m\"\u001b[39m\u001b[39m__main__\u001b[39m\u001b[39m\"\u001b[39m:\n\u001b[0;32m      2\u001b[0m     cutoff \u001b[39m=\u001b[39m sys\u001b[39m.\u001b[39margv[\u001b[39m1\u001b[39m]\n\u001b[1;32m----> 3\u001b[0m     n1 \u001b[39m=\u001b[39m \u001b[39mint\u001b[39;49m(sys\u001b[39m.\u001b[39;49margv[\u001b[39m2\u001b[39;49m])\n\u001b[0;32m      4\u001b[0m     n2 \u001b[39m=\u001b[39m \u001b[39mint\u001b[39m(sys\u001b[39m.\u001b[39margv[\u001b[39m3\u001b[39m])\n\u001b[0;32m      5\u001b[0m     main()\n",
      "\u001b[1;31mValueError\u001b[0m: invalid literal for int() with base 10: '--stdin=9008'"
     ]
    }
   ],
   "source": [
    "if __name__ == \"__main__\":\n",
    "    cutoff = sys.argv[1]\n",
    "    n1 = int(sys.argv[2])\n",
    "    n2 = int(sys.argv[3])\n",
    "    main()"
   ]
  }
 ],
 "metadata": {
  "kernelspec": {
   "display_name": "Python 3",
   "language": "python",
   "name": "python3"
  },
  "language_info": {
   "codemirror_mode": {
    "name": "ipython",
    "version": 3
   },
   "file_extension": ".py",
   "mimetype": "text/x-python",
   "name": "python",
   "nbconvert_exporter": "python",
   "pygments_lexer": "ipython3",
   "version": "3.11.1"
  },
  "orig_nbformat": 4
 },
 "nbformat": 4,
 "nbformat_minor": 2
}
